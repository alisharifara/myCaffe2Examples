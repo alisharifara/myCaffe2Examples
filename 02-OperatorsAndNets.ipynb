{
 "cells": [
  {
   "cell_type": "code",
   "execution_count": 43,
   "metadata": {},
   "outputs": [],
   "source": [
    "# using Relu, Sigmoid, Tanh operaions (functions)\n",
    "from caffe2.python import workspace,core\n",
    "\n",
    "import numpy as np\n",
    "import matplotlib.pyplot as plt\n",
    "from random import randint\n",
    "\n",
    "# net visualization\n",
    "from caffe2.python import net_drawer\n",
    "from IPython import display"
   ]
  },
  {
   "cell_type": "code",
   "execution_count": 44,
   "metadata": {},
   "outputs": [],
   "source": [
    "input_relu_blob = 2.5 * np.random.rand(3,2).astype(np.float32) + 3"
   ]
  },
  {
   "cell_type": "code",
   "execution_count": 45,
   "metadata": {},
   "outputs": [
    {
     "name": "stdout",
     "output_type": "stream",
     "text": [
      "[[3.0658863 4.937279 ]\n",
      " [3.2576084 4.8501797]\n",
      " [5.2500706 3.3087196]]\n"
     ]
    }
   ],
   "source": [
    "print(input_relu_blob)"
   ]
  },
  {
   "cell_type": "code",
   "execution_count": 46,
   "metadata": {},
   "outputs": [],
   "source": [
    "input_relu_blob[1][1] = -3 * input_relu_blob[2][0]\n",
    "input_relu_blob[2][0] = -1 * input_relu_blob[0][0]\n",
    "input_relu_blob[2][1] = -2 * input_relu_blob[1][0]"
   ]
  },
  {
   "cell_type": "code",
   "execution_count": 47,
   "metadata": {},
   "outputs": [
    {
     "data": {
      "text/plain": [
       "array([[  3.0658863,   4.937279 ],\n",
       "       [  3.2576084, -15.750212 ],\n",
       "       [ -3.0658863,  -6.515217 ]], dtype=float32)"
      ]
     },
     "execution_count": 47,
     "metadata": {},
     "output_type": "execute_result"
    }
   ],
   "source": [
    "input_relu_blob"
   ]
  },
  {
   "cell_type": "code",
   "execution_count": 48,
   "metadata": {},
   "outputs": [
    {
     "data": {
      "text/plain": [
       "True"
      ]
     },
     "execution_count": 48,
     "metadata": {},
     "output_type": "execute_result"
    }
   ],
   "source": [
    "# add the input to the workspace\n",
    "workspace.FeedBlob('input_relu_blob',input_relu_blob)"
   ]
  },
  {
   "cell_type": "code",
   "execution_count": 49,
   "metadata": {},
   "outputs": [],
   "source": [
    "# Relu === MAX(0, x)\n",
    "relu_op = core.CreateOperator(\n",
    " \"Relu\",\n",
    "['input_relu_blob'],\n",
    "['output_relu_blob'])"
   ]
  },
  {
   "cell_type": "code",
   "execution_count": 50,
   "metadata": {},
   "outputs": [
    {
     "name": "stdout",
     "output_type": "stream",
     "text": [
      "input: \"input_relu_blob\"\n",
      "output: \"output_relu_blob\"\n",
      "name: \"\"\n",
      "type: \"Relu\"\n",
      "\n"
     ]
    }
   ],
   "source": [
    "print(relu_op)"
   ]
  },
  {
   "cell_type": "code",
   "execution_count": 51,
   "metadata": {},
   "outputs": [
    {
     "data": {
      "text/plain": [
       "True"
      ]
     },
     "execution_count": 51,
     "metadata": {},
     "output_type": "execute_result"
    }
   ],
   "source": [
    "# run the operator\n",
    "workspace.RunOperatorOnce(relu_op)"
   ]
  },
  {
   "cell_type": "code",
   "execution_count": 52,
   "metadata": {},
   "outputs": [
    {
     "data": {
      "text/plain": [
       "['W', 'X', 'Y', 'b', 'input_relu_blob', 'output_relu_blob']"
      ]
     },
     "execution_count": 52,
     "metadata": {},
     "output_type": "execute_result"
    }
   ],
   "source": [
    "# check the blobls. we now have output_blob which Relu function has applied upon\n",
    "workspace.Blobs()"
   ]
  },
  {
   "cell_type": "code",
   "execution_count": 53,
   "metadata": {},
   "outputs": [
    {
     "data": {
      "text/plain": [
       "array([[3.0658863, 4.937279 ],\n",
       "       [3.2576084, 0.       ],\n",
       "       [0.       , 0.       ]], dtype=float32)"
      ]
     },
     "execution_count": 53,
     "metadata": {},
     "output_type": "execute_result"
    }
   ],
   "source": [
    "# here is the outout for the relu activation function\n",
    "workspace.FetchBlob('output_relu_blob')"
   ]
  },
  {
   "cell_type": "code",
   "execution_count": null,
   "metadata": {},
   "outputs": [],
   "source": []
  },
  {
   "cell_type": "code",
   "execution_count": 54,
   "metadata": {},
   "outputs": [],
   "source": [
    "# sigmoid activation\n",
    "sigmoid_op = core.CreateOperator(\n",
    " \"Sigmoid\",\n",
    "['input_sigmoid_blob'],\n",
    "['output_sigmoid_blob'])"
   ]
  },
  {
   "cell_type": "code",
   "execution_count": 55,
   "metadata": {},
   "outputs": [],
   "source": [
    "# generates some input to feed into the sigmoid operator\n",
    "input_sigmoid_blob = 4.5 * np.random.rand(3,2).astype(np.float32) + 3"
   ]
  },
  {
   "cell_type": "code",
   "execution_count": 56,
   "metadata": {},
   "outputs": [
    {
     "data": {
      "text/plain": [
       "True"
      ]
     },
     "execution_count": 56,
     "metadata": {},
     "output_type": "execute_result"
    }
   ],
   "source": [
    "# add the input to the workspace\n",
    "workspace.FeedBlob('input_sigmoid_blob', input_sigmoid_blob)"
   ]
  },
  {
   "cell_type": "code",
   "execution_count": 57,
   "metadata": {},
   "outputs": [
    {
     "data": {
      "text/plain": [
       "array([[4.937201 , 4.020255 ],\n",
       "       [3.6757298, 6.926701 ],\n",
       "       [6.4458632, 6.516525 ]], dtype=float32)"
      ]
     },
     "execution_count": 57,
     "metadata": {},
     "output_type": "execute_result"
    }
   ],
   "source": [
    "input_sigmoid_blob"
   ]
  },
  {
   "cell_type": "code",
   "execution_count": 58,
   "metadata": {},
   "outputs": [
    {
     "data": {
      "text/plain": [
       "True"
      ]
     },
     "execution_count": 58,
     "metadata": {},
     "output_type": "execute_result"
    }
   ],
   "source": [
    "# run the sigmoid operator\n",
    "workspace.RunOperatorOnce(sigmoid_op)"
   ]
  },
  {
   "cell_type": "code",
   "execution_count": 59,
   "metadata": {},
   "outputs": [
    {
     "data": {
      "text/plain": [
       "array([[0.99287647, 0.98236805],\n",
       "       [0.9752949 , 0.99901974],\n",
       "       [0.99841547, 0.9985234 ]], dtype=float32)"
      ]
     },
     "execution_count": 59,
     "metadata": {},
     "output_type": "execute_result"
    }
   ],
   "source": [
    "# applies the sigmoid (logistic regression) to the input\n",
    "workspace.FetchBlob('output_sigmoid_blob')"
   ]
  },
  {
   "cell_type": "code",
   "execution_count": 60,
   "metadata": {},
   "outputs": [],
   "source": [
    "# tanh activation - in-place operation (input and output are the same!)\n",
    "tanh_op = core.CreateOperator(\n",
    " \"Tanh\",\n",
    "['input_tanh_blob'],\n",
    "['input_tanh_blob'])"
   ]
  },
  {
   "cell_type": "code",
   "execution_count": 61,
   "metadata": {},
   "outputs": [],
   "source": [
    "# generates some input to feed into the tanh operator\n",
    "input_tanh_blob = 1.5 * np.random.rand(2,2).astype(np.float32) + 3"
   ]
  },
  {
   "cell_type": "code",
   "execution_count": 62,
   "metadata": {},
   "outputs": [
    {
     "data": {
      "text/plain": [
       "array([[3.249302 , 4.4776244],\n",
       "       [3.7507055, 4.288149 ]], dtype=float32)"
      ]
     },
     "execution_count": 62,
     "metadata": {},
     "output_type": "execute_result"
    }
   ],
   "source": [
    "input_tanh_blob"
   ]
  },
  {
   "cell_type": "code",
   "execution_count": 63,
   "metadata": {},
   "outputs": [
    {
     "data": {
      "text/plain": [
       "True"
      ]
     },
     "execution_count": 63,
     "metadata": {},
     "output_type": "execute_result"
    }
   ],
   "source": [
    "workspace.FeedBlob('input_tanh_blob', input_tanh_blob)"
   ]
  },
  {
   "cell_type": "code",
   "execution_count": 64,
   "metadata": {},
   "outputs": [
    {
     "data": {
      "text/plain": [
       "True"
      ]
     },
     "execution_count": 64,
     "metadata": {},
     "output_type": "execute_result"
    }
   ],
   "source": [
    "workspace.RunOperatorOnce(tanh_op)"
   ]
  },
  {
   "cell_type": "code",
   "execution_count": 65,
   "metadata": {},
   "outputs": [
    {
     "data": {
      "text/plain": [
       "array([[0.9969934, 0.9997419],\n",
       "       [0.998896 , 0.999623 ]], dtype=float32)"
      ]
     },
     "execution_count": 65,
     "metadata": {},
     "output_type": "execute_result"
    }
   ],
   "source": [
    "workspace.FetchBlob('input_tanh_blob')"
   ]
  },
  {
   "cell_type": "code",
   "execution_count": null,
   "metadata": {},
   "outputs": [],
   "source": []
  },
  {
   "cell_type": "code",
   "execution_count": 66,
   "metadata": {},
   "outputs": [
    {
     "data": {
      "text/plain": [
       "['W',\n",
       " 'X',\n",
       " 'Y',\n",
       " 'b',\n",
       " 'input_relu_blob',\n",
       " 'input_sigmoid_blob',\n",
       " 'input_tanh_blob',\n",
       " 'output_relu_blob',\n",
       " 'output_sigmoid_blob']"
      ]
     },
     "execution_count": 66,
     "metadata": {},
     "output_type": "execute_result"
    }
   ],
   "source": [
    "# check the blobls...\n",
    "workspace.Blobs()"
   ]
  },
  {
   "cell_type": "code",
   "execution_count": 67,
   "metadata": {},
   "outputs": [
    {
     "data": {
      "text/plain": [
       "True"
      ]
     },
     "execution_count": 67,
     "metadata": {},
     "output_type": "execute_result"
    }
   ],
   "source": [
    "workspace.ResetWorkspace()"
   ]
  },
  {
   "cell_type": "code",
   "execution_count": 68,
   "metadata": {},
   "outputs": [
    {
     "data": {
      "text/plain": [
       "[]"
      ]
     },
     "execution_count": 68,
     "metadata": {},
     "output_type": "execute_result"
    }
   ],
   "source": [
    "# it is empty now and ready for the neural network which i am going to create in the rest of the notebook!\n",
    "workspace.Blobs()"
   ]
  },
  {
   "cell_type": "code",
   "execution_count": 69,
   "metadata": {},
   "outputs": [],
   "source": [
    "net = core.Net('neural_network')"
   ]
  },
  {
   "cell_type": "code",
   "execution_count": 70,
   "metadata": {},
   "outputs": [
    {
     "name": "stdout",
     "output_type": "stream",
     "text": [
      " current network proto: \n",
      " name: \"neural_network_1\"\n",
      "\n"
     ]
    }
   ],
   "source": [
    "# protol buffer representation\n",
    "print(' current network proto: \\n', net.Proto())"
   ]
  },
  {
   "cell_type": "code",
   "execution_count": 71,
   "metadata": {},
   "outputs": [],
   "source": [
    "# create and initialize a blob using net and GaussianFill\n",
    "W = net.GaussianFill([],['W'], mean=0.0, std=0.8, shape=[7,2], run_once=0)"
   ]
  },
  {
   "cell_type": "code",
   "execution_count": 72,
   "metadata": {},
   "outputs": [
    {
     "data": {
      "text/plain": [
       "BlobReference(\"W\")"
      ]
     },
     "execution_count": 72,
     "metadata": {},
     "output_type": "execute_result"
    }
   ],
   "source": [
    "W"
   ]
  },
  {
   "cell_type": "code",
   "execution_count": 73,
   "metadata": {},
   "outputs": [
    {
     "data": {
      "text/plain": [
       "'W'"
      ]
     },
     "execution_count": 73,
     "metadata": {},
     "output_type": "execute_result"
    }
   ],
   "source": [
    "str(W)"
   ]
  },
  {
   "cell_type": "code",
   "execution_count": 74,
   "metadata": {},
   "outputs": [
    {
     "data": {
      "text/plain": [
       "<caffe2.python.core.Net at 0x110f63358>"
      ]
     },
     "execution_count": 74,
     "metadata": {},
     "output_type": "execute_result"
    }
   ],
   "source": [
    "# here has the reference to our neural network\n",
    "W.Net()"
   ]
  },
  {
   "cell_type": "code",
   "execution_count": 75,
   "metadata": {},
   "outputs": [
    {
     "data": {
      "text/plain": [
       "name: \"neural_network_1\"\n",
       "op {\n",
       "  output: \"W\"\n",
       "  name: \"\"\n",
       "  type: \"GaussianFill\"\n",
       "  arg {\n",
       "    name: \"mean\"\n",
       "    f: 0.0\n",
       "  }\n",
       "  arg {\n",
       "    name: \"std\"\n",
       "    f: 0.800000011920929\n",
       "  }\n",
       "  arg {\n",
       "    name: \"shape\"\n",
       "    ints: 7\n",
       "    ints: 2\n",
       "  }\n",
       "  arg {\n",
       "    name: \"run_once\"\n",
       "    i: 0\n",
       "  }\n",
       "}"
      ]
     },
     "execution_count": 75,
     "metadata": {},
     "output_type": "execute_result"
    }
   ],
   "source": [
    "W.Net().Proto()"
   ]
  },
  {
   "cell_type": "code",
   "execution_count": 76,
   "metadata": {},
   "outputs": [],
   "source": [
    "X = net.GaussianFill([],['X'], mean=0.0, std=1.0, shape=[5,2], run_once=0)"
   ]
  },
  {
   "cell_type": "code",
   "execution_count": 77,
   "metadata": {},
   "outputs": [
    {
     "data": {
      "text/plain": [
       "BlobReference(\"X\")"
      ]
     },
     "execution_count": 77,
     "metadata": {},
     "output_type": "execute_result"
    }
   ],
   "source": [
    "X"
   ]
  },
  {
   "cell_type": "code",
   "execution_count": 78,
   "metadata": {},
   "outputs": [
    {
     "data": {
      "text/plain": [
       "BlobReference(\"b\")"
      ]
     },
     "execution_count": 78,
     "metadata": {},
     "output_type": "execute_result"
    }
   ],
   "source": [
    "b = net.ConstantFill([],['b'], value=1, shape=[7,], run_once=0)\n",
    "b"
   ]
  },
  {
   "cell_type": "code",
   "execution_count": 79,
   "metadata": {},
   "outputs": [],
   "source": [
    "# FC = fully-connected dense layer without activation\n",
    "Y = net.FC([X, W , b], ['Y'] )"
   ]
  },
  {
   "cell_type": "code",
   "execution_count": 80,
   "metadata": {},
   "outputs": [
    {
     "data": {
      "text/plain": [
       "BlobReference(\"Y\")"
      ]
     },
     "execution_count": 80,
     "metadata": {},
     "output_type": "execute_result"
    }
   ],
   "source": [
    "Y"
   ]
  },
  {
   "cell_type": "code",
   "execution_count": 81,
   "metadata": {},
   "outputs": [
    {
     "name": "stdout",
     "output_type": "stream",
     "text": [
      "current network proto:\n",
      "\n",
      " name: \"neural_network_1\"\n",
      "op {\n",
      "  output: \"W\"\n",
      "  name: \"\"\n",
      "  type: \"GaussianFill\"\n",
      "  arg {\n",
      "    name: \"mean\"\n",
      "    f: 0.0\n",
      "  }\n",
      "  arg {\n",
      "    name: \"std\"\n",
      "    f: 0.800000011920929\n",
      "  }\n",
      "  arg {\n",
      "    name: \"shape\"\n",
      "    ints: 7\n",
      "    ints: 2\n",
      "  }\n",
      "  arg {\n",
      "    name: \"run_once\"\n",
      "    i: 0\n",
      "  }\n",
      "}\n",
      "op {\n",
      "  output: \"X\"\n",
      "  name: \"\"\n",
      "  type: \"GaussianFill\"\n",
      "  arg {\n",
      "    name: \"mean\"\n",
      "    f: 0.0\n",
      "  }\n",
      "  arg {\n",
      "    name: \"std\"\n",
      "    f: 1.0\n",
      "  }\n",
      "  arg {\n",
      "    name: \"shape\"\n",
      "    ints: 5\n",
      "    ints: 2\n",
      "  }\n",
      "  arg {\n",
      "    name: \"run_once\"\n",
      "    i: 0\n",
      "  }\n",
      "}\n",
      "op {\n",
      "  output: \"b\"\n",
      "  name: \"\"\n",
      "  type: \"ConstantFill\"\n",
      "  arg {\n",
      "    name: \"value\"\n",
      "    i: 1\n",
      "  }\n",
      "  arg {\n",
      "    name: \"shape\"\n",
      "    ints: 7\n",
      "  }\n",
      "  arg {\n",
      "    name: \"run_once\"\n",
      "    i: 0\n",
      "  }\n",
      "}\n",
      "op {\n",
      "  input: \"X\"\n",
      "  input: \"W\"\n",
      "  input: \"b\"\n",
      "  output: \"Y\"\n",
      "  name: \"\"\n",
      "  type: \"FC\"\n",
      "}\n",
      "\n"
     ]
    }
   ],
   "source": [
    "print('current network proto:\\n\\n', net.Proto())"
   ]
  },
  {
   "cell_type": "code",
   "execution_count": 82,
   "metadata": {},
   "outputs": [
    {
     "data": {
      "image/png": "[encoded data removed]",
      "text/plain": [
       "<IPython.core.display.Image object>"
      ]
     },
     "execution_count": 82,
     "metadata": {
      "image/png": {
       "width": 800
      }
     },
     "output_type": "execute_result"
    }
   ],
   "source": [
    "# LR = network layout: Left to Right\n",
    "graph = net_drawer.GetPydotGraph(net, rankdir=\"LR\")\n",
    "display.Image(graph.create_png(), width=800)"
   ]
  },
  {
   "cell_type": "code",
   "execution_count": 83,
   "metadata": {},
   "outputs": [
    {
     "name": "stdout",
     "output_type": "stream",
     "text": [
      "Nothing is being executed yet. so, the workspace is still empty:? []\n"
     ]
    }
   ],
   "source": [
    "print('Nothing is being executed yet. so, the workspace is still empty:?', workspace.Blobs())"
   ]
  },
  {
   "cell_type": "code",
   "execution_count": 84,
   "metadata": {},
   "outputs": [
    {
     "name": "stderr",
     "output_type": "stream",
     "text": [
      "WARNING:caffe2.python.workspace:Original python traceback for operator `3` in network `neural_network_1` in exception above (most recent call last):\n",
      "WARNING:caffe2.python.workspace:  File \"/Users/alisharifara/anaconda3/lib/python3.6/runpy.py\", line 193, in _run_module_as_main\n",
      "WARNING:caffe2.python.workspace:  File \"/Users/alisharifara/anaconda3/lib/python3.6/runpy.py\", line 85, in _run_code\n",
      "WARNING:caffe2.python.workspace:  File \"/Users/alisharifara/anaconda3/lib/python3.6/site-packages/ipykernel_launcher.py\", line 16, in <module>\n",
      "WARNING:caffe2.python.workspace:  File \"/Users/alisharifara/anaconda3/lib/python3.6/site-packages/traitlets/config/application.py\", line 658, in launch_instance\n",
      "WARNING:caffe2.python.workspace:  File \"/Users/alisharifara/anaconda3/lib/python3.6/site-packages/ipykernel/kernelapp.py\", line 505, in start\n",
      "WARNING:caffe2.python.workspace:  File \"/Users/alisharifara/anaconda3/lib/python3.6/site-packages/tornado/platform/asyncio.py\", line 148, in start\n",
      "WARNING:caffe2.python.workspace:  File \"/Users/alisharifara/anaconda3/lib/python3.6/asyncio/base_events.py\", line 438, in run_forever\n",
      "WARNING:caffe2.python.workspace:  File \"/Users/alisharifara/anaconda3/lib/python3.6/asyncio/base_events.py\", line 1451, in _run_once\n",
      "WARNING:caffe2.python.workspace:  File \"/Users/alisharifara/anaconda3/lib/python3.6/asyncio/events.py\", line 145, in _run\n",
      "WARNING:caffe2.python.workspace:  File \"/Users/alisharifara/anaconda3/lib/python3.6/site-packages/tornado/ioloop.py\", line 690, in <lambda>\n",
      "WARNING:caffe2.python.workspace:  File \"/Users/alisharifara/anaconda3/lib/python3.6/site-packages/tornado/ioloop.py\", line 743, in _run_callback\n",
      "WARNING:caffe2.python.workspace:  File \"/Users/alisharifara/anaconda3/lib/python3.6/site-packages/tornado/gen.py\", line 781, in inner\n",
      "WARNING:caffe2.python.workspace:  File \"/Users/alisharifara/anaconda3/lib/python3.6/site-packages/tornado/gen.py\", line 742, in run\n",
      "WARNING:caffe2.python.workspace:  File \"/Users/alisharifara/anaconda3/lib/python3.6/site-packages/ipykernel/kernelbase.py\", line 357, in process_one\n",
      "WARNING:caffe2.python.workspace:  File \"/Users/alisharifara/anaconda3/lib/python3.6/site-packages/tornado/gen.py\", line 209, in wrapper\n",
      "WARNING:caffe2.python.workspace:  File \"/Users/alisharifara/anaconda3/lib/python3.6/site-packages/ipykernel/kernelbase.py\", line 267, in dispatch_shell\n",
      "WARNING:caffe2.python.workspace:  File \"/Users/alisharifara/anaconda3/lib/python3.6/site-packages/tornado/gen.py\", line 209, in wrapper\n",
      "WARNING:caffe2.python.workspace:  File \"/Users/alisharifara/anaconda3/lib/python3.6/site-packages/ipykernel/kernelbase.py\", line 534, in execute_request\n",
      "WARNING:caffe2.python.workspace:  File \"/Users/alisharifara/anaconda3/lib/python3.6/site-packages/tornado/gen.py\", line 209, in wrapper\n",
      "WARNING:caffe2.python.workspace:  File \"/Users/alisharifara/anaconda3/lib/python3.6/site-packages/ipykernel/ipkernel.py\", line 294, in do_execute\n",
      "WARNING:caffe2.python.workspace:  File \"/Users/alisharifara/anaconda3/lib/python3.6/site-packages/ipykernel/zmqshell.py\", line 536, in run_cell\n",
      "WARNING:caffe2.python.workspace:  File \"/Users/alisharifara/anaconda3/lib/python3.6/site-packages/IPython/core/interactiveshell.py\", line 2848, in run_cell\n",
      "WARNING:caffe2.python.workspace:  File \"/Users/alisharifara/anaconda3/lib/python3.6/site-packages/IPython/core/interactiveshell.py\", line 2874, in _run_cell\n",
      "WARNING:caffe2.python.workspace:  File \"/Users/alisharifara/anaconda3/lib/python3.6/site-packages/IPython/core/async_helpers.py\", line 67, in _pseudo_sync_runner\n",
      "WARNING:caffe2.python.workspace:  File \"/Users/alisharifara/anaconda3/lib/python3.6/site-packages/IPython/core/interactiveshell.py\", line 3049, in run_cell_async\n",
      "WARNING:caffe2.python.workspace:  File \"/Users/alisharifara/anaconda3/lib/python3.6/site-packages/IPython/core/interactiveshell.py\", line 3214, in run_ast_nodes\n",
      "WARNING:caffe2.python.workspace:  File \"/Users/alisharifara/anaconda3/lib/python3.6/site-packages/IPython/core/interactiveshell.py\", line 3296, in run_code\n",
      "WARNING:caffe2.python.workspace:  File \"<ipython-input-79-b688af541923>\", line 2, in <module>\n"
     ]
    },
    {
     "ename": "RuntimeError",
     "evalue": "[enforce fail at tensor.h:504] IsType<T>(). Tensor type mismatch, caller expects elements to be float while tensor contains long long Error from operator: \ninput: \"X\" input: \"W\" input: \"b\" output: \"Y\" name: \"\" type: \"FC\"\n** while accessing input: b",
     "output_type": "error",
     "traceback": [
      "\u001b[0;31m---------------------------------------------------------------------------\u001b[0m",
      "\u001b[0;31mRuntimeError\u001b[0m                              Traceback (most recent call last)",
      "\u001b[0;32m<ipython-input-84-f756f7aa4965>\u001b[0m in \u001b[0;36m<module>\u001b[0;34m\u001b[0m\n\u001b[0;32m----> 1\u001b[0;31m \u001b[0mworkspace\u001b[0m\u001b[0;34m.\u001b[0m\u001b[0mRunNetOnce\u001b[0m\u001b[0;34m(\u001b[0m\u001b[0mnet\u001b[0m\u001b[0;34m)\u001b[0m\u001b[0;34m\u001b[0m\u001b[0;34m\u001b[0m\u001b[0m\n\u001b[0m",
      "\u001b[0;32m~/anaconda3/lib/python3.6/site-packages/caffe2/python/workspace.py\u001b[0m in \u001b[0;36mRunNetOnce\u001b[0;34m(net)\u001b[0m\n\u001b[1;32m    197\u001b[0m         \u001b[0mC\u001b[0m\u001b[0;34m.\u001b[0m\u001b[0mWorkspace\u001b[0m\u001b[0;34m.\u001b[0m\u001b[0mcurrent\u001b[0m\u001b[0;34m.\u001b[0m\u001b[0m_last_failed_op_net_position\u001b[0m\u001b[0;34m,\u001b[0m\u001b[0;34m\u001b[0m\u001b[0;34m\u001b[0m\u001b[0m\n\u001b[1;32m    198\u001b[0m         \u001b[0mGetNetName\u001b[0m\u001b[0;34m(\u001b[0m\u001b[0mnet\u001b[0m\u001b[0;34m)\u001b[0m\u001b[0;34m,\u001b[0m\u001b[0;34m\u001b[0m\u001b[0;34m\u001b[0m\u001b[0m\n\u001b[0;32m--> 199\u001b[0;31m         \u001b[0mStringifyProto\u001b[0m\u001b[0;34m(\u001b[0m\u001b[0mnet\u001b[0m\u001b[0;34m)\u001b[0m\u001b[0;34m,\u001b[0m\u001b[0;34m\u001b[0m\u001b[0;34m\u001b[0m\u001b[0m\n\u001b[0m\u001b[1;32m    200\u001b[0m     )\n\u001b[1;32m    201\u001b[0m \u001b[0;34m\u001b[0m\u001b[0m\n",
      "\u001b[0;32m~/anaconda3/lib/python3.6/site-packages/caffe2/python/workspace.py\u001b[0m in \u001b[0;36mCallWithExceptionIntercept\u001b[0;34m(func, op_id_fetcher, net_name, *args, **kwargs)\u001b[0m\n\u001b[1;32m    176\u001b[0m \u001b[0;32mdef\u001b[0m \u001b[0mCallWithExceptionIntercept\u001b[0m\u001b[0;34m(\u001b[0m\u001b[0mfunc\u001b[0m\u001b[0;34m,\u001b[0m \u001b[0mop_id_fetcher\u001b[0m\u001b[0;34m,\u001b[0m \u001b[0mnet_name\u001b[0m\u001b[0;34m,\u001b[0m \u001b[0;34m*\u001b[0m\u001b[0margs\u001b[0m\u001b[0;34m,\u001b[0m \u001b[0;34m**\u001b[0m\u001b[0mkwargs\u001b[0m\u001b[0;34m)\u001b[0m\u001b[0;34m:\u001b[0m\u001b[0;34m\u001b[0m\u001b[0;34m\u001b[0m\u001b[0m\n\u001b[1;32m    177\u001b[0m     \u001b[0;32mtry\u001b[0m\u001b[0;34m:\u001b[0m\u001b[0;34m\u001b[0m\u001b[0;34m\u001b[0m\u001b[0m\n\u001b[0;32m--> 178\u001b[0;31m         \u001b[0;32mreturn\u001b[0m \u001b[0mfunc\u001b[0m\u001b[0;34m(\u001b[0m\u001b[0;34m*\u001b[0m\u001b[0margs\u001b[0m\u001b[0;34m,\u001b[0m \u001b[0;34m**\u001b[0m\u001b[0mkwargs\u001b[0m\u001b[0;34m)\u001b[0m\u001b[0;34m\u001b[0m\u001b[0;34m\u001b[0m\u001b[0m\n\u001b[0m\u001b[1;32m    179\u001b[0m     \u001b[0;32mexcept\u001b[0m \u001b[0mException\u001b[0m\u001b[0;34m:\u001b[0m\u001b[0;34m\u001b[0m\u001b[0;34m\u001b[0m\u001b[0m\n\u001b[1;32m    180\u001b[0m         \u001b[0mop_id\u001b[0m \u001b[0;34m=\u001b[0m \u001b[0mop_id_fetcher\u001b[0m\u001b[0;34m(\u001b[0m\u001b[0;34m)\u001b[0m\u001b[0;34m\u001b[0m\u001b[0;34m\u001b[0m\u001b[0m\n",
      "\u001b[0;31mRuntimeError\u001b[0m: [enforce fail at tensor.h:504] IsType<T>(). Tensor type mismatch, caller expects elements to be float while tensor contains long long Error from operator: \ninput: \"X\" input: \"W\" input: \"b\" output: \"Y\" name: \"\" type: \"FC\"\n** while accessing input: b"
     ]
    }
   ],
   "source": [
    "workspace.RunNetOnce(net)"
   ]
  },
  {
   "cell_type": "code",
   "execution_count": 85,
   "metadata": {},
   "outputs": [
    {
     "data": {
      "text/plain": [
       "['W', 'X', 'Y', 'b']"
      ]
     },
     "execution_count": 85,
     "metadata": {},
     "output_type": "execute_result"
    }
   ],
   "source": [
    "workspace.Blobs()"
   ]
  },
  {
   "cell_type": "code",
   "execution_count": 86,
   "metadata": {},
   "outputs": [
    {
     "data": {
      "text/plain": [
       "array([1, 1, 1, 1, 1, 1, 1], dtype=int64)"
      ]
     },
     "execution_count": 86,
     "metadata": {},
     "output_type": "execute_result"
    }
   ],
   "source": [
    "workspace.FetchBlob('b')"
   ]
  },
  {
   "cell_type": "code",
   "execution_count": null,
   "metadata": {},
   "outputs": [],
   "source": []
  }
 ],
 "metadata": {
  "kernelspec": {
   "display_name": "Python 3",
   "language": "python",
   "name": "python3"
  }
 },
 "nbformat": 4,
 "nbformat_minor": 2
}
