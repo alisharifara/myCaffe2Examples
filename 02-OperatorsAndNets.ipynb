{
 "cells": [
  {
   "cell_type": "code",
   "execution_count": 258,
   "metadata": {},
   "outputs": [],
   "source": [
    "# using Relu, Sigmoid, Tanh operaions (functions)\n",
    "from caffe2.python import workspace,core\n",
    "\n",
    "import numpy as np\n",
    "import matplotlib.pyplot as plt\n",
    "from random import randint"
   ]
  },
  {
   "cell_type": "code",
   "execution_count": 259,
   "metadata": {},
   "outputs": [],
   "source": [
    "input_relu_blob = 2.5 * np.random.rand(3,2).astype(np.float32) + 3"
   ]
  },
  {
   "cell_type": "code",
   "execution_count": 260,
   "metadata": {},
   "outputs": [
    {
     "name": "stdout",
     "output_type": "stream",
     "text": [
      "[[4.9566092 3.9281926]\n",
      " [5.0141525 3.230762 ]\n",
      " [4.756171  3.489957 ]]\n"
     ]
    }
   ],
   "source": [
    "print(input_relu_blob)"
   ]
  },
  {
   "cell_type": "code",
   "execution_count": 261,
   "metadata": {},
   "outputs": [],
   "source": [
    "input_relu_blob[1][1] = -3 * input_relu_blob[2][0]\n",
    "input_relu_blob[2][0] = -1 * input_relu_blob[0][0]\n",
    "input_relu_blob[2][1] = -2 * input_relu_blob[1][0]"
   ]
  },
  {
   "cell_type": "code",
   "execution_count": 262,
   "metadata": {},
   "outputs": [
    {
     "data": {
      "text/plain": [
       "array([[  4.9566092,   3.9281926],\n",
       "       [  5.0141525, -14.268514 ],\n",
       "       [ -4.9566092, -10.028305 ]], dtype=float32)"
      ]
     },
     "execution_count": 262,
     "metadata": {},
     "output_type": "execute_result"
    }
   ],
   "source": [
    "input_relu_blob"
   ]
  },
  {
   "cell_type": "code",
   "execution_count": 263,
   "metadata": {},
   "outputs": [
    {
     "data": {
      "text/plain": [
       "True"
      ]
     },
     "execution_count": 263,
     "metadata": {},
     "output_type": "execute_result"
    }
   ],
   "source": [
    "# add the input to the workspace\n",
    "workspace.FeedBlob('input_relu_blob',input_blob)"
   ]
  },
  {
   "cell_type": "code",
   "execution_count": 264,
   "metadata": {},
   "outputs": [],
   "source": [
    "# Relu === MAX(0, x)\n",
    "relu_op = core.CreateOperator(\n",
    " \"Relu\",\n",
    "['input_relu_blob'],\n",
    "['output_relu_blob'])"
   ]
  },
  {
   "cell_type": "code",
   "execution_count": 265,
   "metadata": {},
   "outputs": [
    {
     "name": "stdout",
     "output_type": "stream",
     "text": [
      "input: \"input_relu_blob\"\n",
      "output: \"output_relu_blob\"\n",
      "name: \"\"\n",
      "type: \"Relu\"\n",
      "\n"
     ]
    }
   ],
   "source": [
    "print(relu_op)"
   ]
  },
  {
   "cell_type": "code",
   "execution_count": 266,
   "metadata": {},
   "outputs": [
    {
     "data": {
      "text/plain": [
       "True"
      ]
     },
     "execution_count": 266,
     "metadata": {},
     "output_type": "execute_result"
    }
   ],
   "source": [
    "# run the operator\n",
    "workspace.RunOperatorOnce(relu_op)"
   ]
  },
  {
   "cell_type": "code",
   "execution_count": 267,
   "metadata": {},
   "outputs": [
    {
     "data": {
      "text/plain": [
       "['input_blob',\n",
       " 'input_relu_blob',\n",
       " 'input_sigmoid_blob',\n",
       " 'input_tanh_blob',\n",
       " 'output_blob',\n",
       " 'output_relu_blob',\n",
       " 'output_sigmoid_blob']"
      ]
     },
     "execution_count": 267,
     "metadata": {},
     "output_type": "execute_result"
    }
   ],
   "source": [
    "# check the blobls. we now have output_blob which Relu function has applied upon\n",
    "workspace.Blobs()"
   ]
  },
  {
   "cell_type": "code",
   "execution_count": 268,
   "metadata": {},
   "outputs": [
    {
     "data": {
      "text/plain": [
       "array([[ 4.827566 ,  4.227235 ],\n",
       "       [ 3.5146208, 28.965397 ],\n",
       "       [ 0.       ,  0.       ]], dtype=float32)"
      ]
     },
     "execution_count": 268,
     "metadata": {},
     "output_type": "execute_result"
    }
   ],
   "source": [
    "# here is the outout for the relu activation function\n",
    "workspace.FetchBlob('output_relu_blob')"
   ]
  },
  {
   "cell_type": "code",
   "execution_count": null,
   "metadata": {},
   "outputs": [],
   "source": []
  },
  {
   "cell_type": "code",
   "execution_count": 269,
   "metadata": {},
   "outputs": [],
   "source": [
    "# sigmoid activation\n",
    "sigmoid_op = core.CreateOperator(\n",
    " \"Sigmoid\",\n",
    "['input_sigmoid_blob'],\n",
    "['output_sigmoid_blob'])"
   ]
  },
  {
   "cell_type": "code",
   "execution_count": 270,
   "metadata": {},
   "outputs": [],
   "source": [
    "# generates some input to feed into the sigmoid operator\n",
    "input_sigmoid_blob = 4.5 * np.random.rand(3,2).astype(np.float32) + 3"
   ]
  },
  {
   "cell_type": "code",
   "execution_count": 271,
   "metadata": {},
   "outputs": [
    {
     "data": {
      "text/plain": [
       "True"
      ]
     },
     "execution_count": 271,
     "metadata": {},
     "output_type": "execute_result"
    }
   ],
   "source": [
    "# add the input to the workspace\n",
    "workspace.FeedBlob('input_sigmoid_blob', input_sigmoid_blob)"
   ]
  },
  {
   "cell_type": "code",
   "execution_count": 272,
   "metadata": {},
   "outputs": [
    {
     "data": {
      "text/plain": [
       "array([[5.613007 , 3.8127077],\n",
       "       [6.8889837, 6.8638973],\n",
       "       [6.428182 , 3.3675456]], dtype=float32)"
      ]
     },
     "execution_count": 272,
     "metadata": {},
     "output_type": "execute_result"
    }
   ],
   "source": [
    "input_sigmoid_blob"
   ]
  },
  {
   "cell_type": "code",
   "execution_count": 273,
   "metadata": {},
   "outputs": [
    {
     "data": {
      "text/plain": [
       "True"
      ]
     },
     "execution_count": 273,
     "metadata": {},
     "output_type": "execute_result"
    }
   ],
   "source": [
    "# run the sigmoid operator\n",
    "workspace.RunOperatorOnce(sigmoid_op)"
   ]
  },
  {
   "cell_type": "code",
   "execution_count": 274,
   "metadata": {},
   "outputs": [
    {
     "data": {
      "text/plain": [
       "array([[0.9963632 , 0.9783891 ],\n",
       "       [0.998982  , 0.9989562 ],\n",
       "       [0.9983872 , 0.96667475]], dtype=float32)"
      ]
     },
     "execution_count": 274,
     "metadata": {},
     "output_type": "execute_result"
    }
   ],
   "source": [
    "# applies the sigmoid (logistic regression) to the input\n",
    "workspace.FetchBlob('output_sigmoid_blob')"
   ]
  },
  {
   "cell_type": "code",
   "execution_count": 275,
   "metadata": {},
   "outputs": [],
   "source": [
    "# tanh activation - in-place operation (input and output are the same!)\n",
    "tanh_op = core.CreateOperator(\n",
    " \"Tanh\",\n",
    "['input_tanh_blob'],\n",
    "['input_tanh_blob'])"
   ]
  },
  {
   "cell_type": "code",
   "execution_count": 276,
   "metadata": {},
   "outputs": [],
   "source": [
    "# generates some input to feed into the tanh operator\n",
    "input_tanh_blob = 1.5 * np.random.rand(2,2).astype(np.float32) + 3"
   ]
  },
  {
   "cell_type": "code",
   "execution_count": 277,
   "metadata": {},
   "outputs": [
    {
     "data": {
      "text/plain": [
       "array([[4.257548 , 3.8648453],\n",
       "       [3.7514634, 4.220549 ]], dtype=float32)"
      ]
     },
     "execution_count": 277,
     "metadata": {},
     "output_type": "execute_result"
    }
   ],
   "source": [
    "input_tanh_blob"
   ]
  },
  {
   "cell_type": "code",
   "execution_count": 278,
   "metadata": {},
   "outputs": [
    {
     "data": {
      "text/plain": [
       "True"
      ]
     },
     "execution_count": 278,
     "metadata": {},
     "output_type": "execute_result"
    }
   ],
   "source": [
    "workspace.FeedBlob('input_tanh_blob', input_tanh_blob)"
   ]
  },
  {
   "cell_type": "code",
   "execution_count": 279,
   "metadata": {},
   "outputs": [
    {
     "data": {
      "text/plain": [
       "True"
      ]
     },
     "execution_count": 279,
     "metadata": {},
     "output_type": "execute_result"
    }
   ],
   "source": [
    "workspace.RunOperatorOnce(tanh_op)"
   ]
  },
  {
   "cell_type": "code",
   "execution_count": 280,
   "metadata": {},
   "outputs": [
    {
     "data": {
      "text/plain": [
       "array([[0.9995992 , 0.99912125],\n",
       "       [0.9988977 , 0.99956846]], dtype=float32)"
      ]
     },
     "execution_count": 280,
     "metadata": {},
     "output_type": "execute_result"
    }
   ],
   "source": [
    "workspace.FetchBlob('input_tanh_blob')"
   ]
  },
  {
   "cell_type": "code",
   "execution_count": null,
   "metadata": {},
   "outputs": [],
   "source": []
  },
  {
   "cell_type": "code",
   "execution_count": 281,
   "metadata": {},
   "outputs": [
    {
     "data": {
      "text/plain": [
       "['input_blob',\n",
       " 'input_relu_blob',\n",
       " 'input_sigmoid_blob',\n",
       " 'input_tanh_blob',\n",
       " 'output_blob',\n",
       " 'output_relu_blob',\n",
       " 'output_sigmoid_blob']"
      ]
     },
     "execution_count": 281,
     "metadata": {},
     "output_type": "execute_result"
    }
   ],
   "source": [
    "# check the blobls...\n",
    "workspace.Blobs()"
   ]
  },
  {
   "cell_type": "code",
   "execution_count": null,
   "metadata": {},
   "outputs": [],
   "source": []
  }
 ],
 "metadata": {
  "kernelspec": {
   "display_name": "Python 3",
   "language": "python",
   "name": "python3"
  },
  "language_info": {
   "codemirror_mode": {
    "name": "ipython",
    "version": 3
   },
   "file_extension": ".py",
   "mimetype": "text/x-python",
   "name": "python",
   "nbconvert_exporter": "python",
   "pygments_lexer": "ipython3",
   "version": "3.6.8"
  }
 },
 "nbformat": 4,
 "nbformat_minor": 2
}
